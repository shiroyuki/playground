{
  "nbformat": 4,
  "nbformat_minor": 0,
  "metadata": {
    "colab": {
      "name": "Demystify Async - Demo.ipynb",
      "provenance": [],
      "collapsed_sections": []
    },
    "kernelspec": {
      "name": "python3",
      "display_name": "Python 3"
    },
    "language_info": {
      "name": "python"
    }
  },
  "cells": [
    {
      "cell_type": "code",
      "execution_count": 1,
      "metadata": {
        "colab": {
          "base_uri": "https://localhost:8080/"
        },
        "id": "S8fVhtdGBE0q",
        "outputId": "efdfe260-8ea1-4576-fb32-0a952105ea4a"
      },
      "outputs": [
        {
          "output_type": "stream",
          "name": "stdout",
          "text": [
            "3.7.12 (default, Jan 15 2022, 18:48:18) \n",
            "[GCC 7.5.0]\n"
          ]
        }
      ],
      "source": [
        "import sys\n",
        "print(sys.version)"
      ]
    },
    {
      "cell_type": "markdown",
      "source": [
        "For the sake of entertaining everyone, this is a basic stopwatch for this demo."
      ],
      "metadata": {
        "id": "W3Hi02BpFSX1"
      }
    },
    {
      "cell_type": "code",
      "source": [
        "from contextlib import contextmanager\n",
        "from time import sleep, time\n",
        "from threading import active_count\n",
        "\n",
        "initial_thread_count = active_count()\n",
        "\n",
        "def additional_thread_count():\n",
        "  thread_count = active_count() - initial_thread_count\n",
        "\n",
        "  return thread_count if thread_count > 0 else 0\n",
        "\n",
        "@contextmanager\n",
        "def stopwatch(name: str):\n",
        "  print(f'Stopwatch: {name}: Started: {additional_thread_count()} thread(s)')\n",
        "  starting_time = time()\n",
        "  yield\n",
        "  print(f'Stopwatch: {name}: Stopped: {time() - starting_time:.3f}s, {additional_thread_count()} thread(s)')"
      ],
      "metadata": {
        "id": "znXA5VRQBTQX"
      },
      "execution_count": 2,
      "outputs": []
    },
    {
      "cell_type": "markdown",
      "source": [
        "Now, let's define a CPU-bound task."
      ],
      "metadata": {
        "id": "M2TwRyAwCgGN"
      }
    },
    {
      "cell_type": "code",
      "source": [
        "def run_in_sync(id: str, delay: int):\n",
        "  starting_time = time()\n",
        "  while time() - starting_time < delay:\n",
        "    sys.stdout.write(f'{id}')\n",
        "    sleep(0.5)\n",
        "    sys.stdout.write(f'{id}')\n",
        "  sys.stdout.write(f'[{id}:stopped:{additional_thread_count()}t] ')\n",
        "  return id"
      ],
      "metadata": {
        "id": "bPa06OrJCoVi"
      },
      "execution_count": 3,
      "outputs": []
    },
    {
      "cell_type": "markdown",
      "source": [
        "Suppose we have two runs."
      ],
      "metadata": {
        "id": "DhsIq-8EIFMm"
      }
    },
    {
      "cell_type": "code",
      "source": [
        "runs = ['+', '-', '#']"
      ],
      "metadata": {
        "id": "GOsq5S8HIJ1U"
      },
      "execution_count": 4,
      "outputs": []
    },
    {
      "cell_type": "markdown",
      "source": [
        "Now, let's make two runs without multitasking."
      ],
      "metadata": {
        "id": "HHQOz4iOFQwz"
      }
    },
    {
      "cell_type": "code",
      "source": [
        "with stopwatch('Set #1'):\n",
        "  results = [\n",
        "    run_in_sync(id, 5)\n",
        "    for id in runs\n",
        "  ]\n",
        "  print(f'\\nresults = {results}')"
      ],
      "metadata": {
        "colab": {
          "base_uri": "https://localhost:8080/"
        },
        "id": "f_P4hyA4FoMR",
        "outputId": "d4b0d429-b011-4117-d2ea-d3a9a3580836"
      },
      "execution_count": 5,
      "outputs": [
        {
          "output_type": "stream",
          "name": "stdout",
          "text": [
            "Stopwatch: Set #1: Started: 0 thread(s)\n",
            "++++++++++++++++++++[+:stopped:0t] --------------------[-:stopped:0t] ####################[#:stopped:0t] \n",
            "results = ['+', '-', '#']\n",
            "Stopwatch: Set #1: Stopped: 15.028s, 0 thread(s)\n"
          ]
        }
      ]
    },
    {
      "cell_type": "markdown",
      "source": [
        "Well, this is a bit too long. Let's use multithreading to speed things up.\n",
        "> For this demo, we use `ThreadPoolExecutor` for simplicity."
      ],
      "metadata": {
        "id": "aPxQzwtIGzMa"
      }
    },
    {
      "cell_type": "code",
      "source": [
        "from concurrent.futures import as_completed, Future\n",
        "from concurrent.futures.thread import ThreadPoolExecutor\n",
        "from typing import Any, List, Dict\n",
        "\n",
        "with stopwatch('Set #2'), ThreadPoolExecutor(max_workers=2) as pool:\n",
        "  futures = [\n",
        "    pool.submit(run_in_sync, id, 5)\n",
        "    for id in runs\n",
        "  ]\n",
        "\n",
        "  results = [\n",
        "    f.result()\n",
        "    for f in as_completed(futures)\n",
        "  ]\n",
        "\n",
        "  print(f'\\nresults = {results}')"
      ],
      "metadata": {
        "colab": {
          "base_uri": "https://localhost:8080/"
        },
        "id": "NnahaKOnGvke",
        "outputId": "4bb7d9a7-585b-40a5-b593-ce253c9e84f8"
      },
      "execution_count": 6,
      "outputs": [
        {
          "output_type": "stream",
          "name": "stdout",
          "text": [
            "Stopwatch: Set #2: Started: 0 thread(s)\n",
            "+---++--++--++--++--++--+++--+--++--++-[-:stopped:2t] #+[+:stopped:2t] ###################[#:stopped:2t] \n",
            "results = ['-', '+', '#']\n",
            "Stopwatch: Set #2: Stopped: 10.026s, 0 thread(s)\n"
          ]
        }
      ]
    },
    {
      "cell_type": "markdown",
      "source": [
        "Now, let's try with `asyncio` but keep using `run_in_sync`."
      ],
      "metadata": {
        "id": "pYx0eaf9Lbl5"
      }
    },
    {
      "cell_type": "code",
      "source": [
        "import asyncio\n",
        "from multiprocessing import Process\n",
        "\n",
        "async def run_in_async(id: str, delay: int):\n",
        "  starting_time = time()\n",
        "  while time() - starting_time < delay:\n",
        "    sys.stdout.write(f'{id}')\n",
        "    await asyncio.sleep(0.5)\n",
        "    sys.stdout.write(f'{id}')\n",
        "  sys.stdout.write(f'[{id}:stopped:{additional_thread_count()}t] ')\n",
        "  return id\n",
        "\n",
        "async def demo_with_just_await(runs: List[str]):\n",
        "  results = []\n",
        "  for id in runs:\n",
        "    results.append(await run_in_async(id, 5))\n",
        "    # ↑ As you can see, while \"await\" will automatically create a task from a\n",
        "    #   returning coroutine, \"await\" also block until the awaited task finishes.\n",
        "\n",
        "  print(f'\\nresults = {results}')\n",
        "\n",
        "async def demo_with_explicit_task_creation(runs: List[str]):\n",
        "  tasks = []\n",
        "  for id in runs:\n",
        "    coroutine = run_in_async(id, 5)  # ← This is just to get a coroutine for scheduling.\n",
        "    task = asyncio.create_task(coroutine)  # ← This will schedule the coroutine right away.\n",
        "    tasks.append(task)\n",
        "  \n",
        "  results = []\n",
        "  for t in tasks:\n",
        "    results.append(await t)\n",
        "\n",
        "  print(f'\\nresults = {results}')\n",
        "\n",
        "def run_in_process():\n",
        "  with stopwatch('Set #3'):\n",
        "    asyncio.run(demo_with_just_await(runs))\n",
        "\n",
        "  with stopwatch('Set #4'):\n",
        "    asyncio.run(demo_with_explicit_task_creation(runs))\n",
        "\n",
        "# Normally, we can just invoke asyncio.run(demo()). However, Jupyter's kernel\n",
        "# seems to be using asyncio. So, we use a different thread to bypass the limit.\n",
        "p = Process(target=run_in_process)\n",
        "p.start()\n",
        "p.join()\n"
      ],
      "metadata": {
        "colab": {
          "base_uri": "https://localhost:8080/"
        },
        "id": "rkRzmTFmL88K",
        "outputId": "4f4bea3a-13cb-43bb-b396-6bded8175498"
      },
      "execution_count": 7,
      "outputs": [
        {
          "output_type": "stream",
          "name": "stdout",
          "text": [
            "Stopwatch: Set #3: Started: 0 thread(s)\n",
            "++++++++++++++++++++[+:stopped:0t] --------------------[-:stopped:0t] ####################[#:stopped:0t] \n",
            "results = ['+', '-', '#']\n",
            "Stopwatch: Set #3: Stopped: 15.034s, 0 thread(s)\n",
            "Stopwatch: Set #4: Started: 0 thread(s)\n",
            "+-#++--##++--##++--##++--##++--##++--##++--##++--##++--##+[+:stopped:0t] -[-:stopped:0t] #[#:stopped:0t] \n",
            "results = ['+', '-', '#']\n",
            "Stopwatch: Set #4: Stopped: 5.013s, 0 thread(s)\n"
          ]
        }
      ]
    },
    {
      "cell_type": "markdown",
      "source": [
        "The difference between **multithreading (`threading`)** and **cooperative multitasking (`asyncio`)** can be summarized like this.\n",
        "\n",
        "| | Multithreading (`threading`) | Cooperative Multitasking (`asyncio`) |\n",
        "| --- | --- | --- |\n",
        "| Method declaration | `def foo()` | `async def foo()` |\n",
        "| Method Invocation: `def()` | Whatever is given in `return` | Corouting of `foo()` |\n",
        "| Unit of Work | Thread | Task |\n",
        "| Scheduler | Operating System | Event Loop |\n",
        "\n",
        "---"
      ],
      "metadata": {
        "id": "GDKkditwUgsm"
      }
    },
    {
      "cell_type": "code",
      "source": [
        ""
      ],
      "metadata": {
        "id": "NORapToacy3m"
      },
      "execution_count": null,
      "outputs": []
    }
  ]
}